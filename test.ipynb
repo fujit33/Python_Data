{
 "cells": [
  {
   "cell_type": "code",
   "execution_count": 3,
   "metadata": {
    "collapsed": true
   },
   "outputs": [],
   "source": [
    "import pandas as pd\n",
    "import numpy as np\n",
    "import matplotlib as mpl\n",
    "import matplotlib.pyplot as plt\n",
    "import seaborn as sns\n",
    "%matplotlib inline\n",
    "font_path = 'C:\\Windows\\Fonts\\msgothic.ttc'\n",
    "fp = mpl.font_manager.FontProperties(fname=font_path)"
   ]
  },
  {
   "cell_type": "markdown",
   "metadata": {},
   "source": [
    "# irisデータセット"
   ]
  },
  {
   "cell_type": "code",
   "execution_count": 4,
   "metadata": {
    "collapsed": false,
    "scrolled": true
   },
   "outputs": [
    {
     "data": {
      "text/html": [
       "<div>\n",
       "<table border=\"1\" class=\"dataframe\">\n",
       "  <thead>\n",
       "    <tr style=\"text-align: right;\">\n",
       "      <th></th>\n",
       "      <th>SepalLength</th>\n",
       "      <th>SepalWidth</th>\n",
       "      <th>PetalLength</th>\n",
       "      <th>PetalWidth</th>\n",
       "      <th>Class</th>\n",
       "    </tr>\n",
       "  </thead>\n",
       "  <tbody>\n",
       "    <tr>\n",
       "      <th>0</th>\n",
       "      <td>5.1</td>\n",
       "      <td>3.5</td>\n",
       "      <td>1.4</td>\n",
       "      <td>0.2</td>\n",
       "      <td>setosa</td>\n",
       "    </tr>\n",
       "    <tr>\n",
       "      <th>1</th>\n",
       "      <td>4.9</td>\n",
       "      <td>3.0</td>\n",
       "      <td>1.4</td>\n",
       "      <td>0.2</td>\n",
       "      <td>setosa</td>\n",
       "    </tr>\n",
       "    <tr>\n",
       "      <th>2</th>\n",
       "      <td>4.7</td>\n",
       "      <td>3.2</td>\n",
       "      <td>1.3</td>\n",
       "      <td>0.2</td>\n",
       "      <td>setosa</td>\n",
       "    </tr>\n",
       "    <tr>\n",
       "      <th>3</th>\n",
       "      <td>4.6</td>\n",
       "      <td>3.1</td>\n",
       "      <td>1.5</td>\n",
       "      <td>0.2</td>\n",
       "      <td>setosa</td>\n",
       "    </tr>\n",
       "    <tr>\n",
       "      <th>4</th>\n",
       "      <td>5.0</td>\n",
       "      <td>3.6</td>\n",
       "      <td>1.4</td>\n",
       "      <td>0.2</td>\n",
       "      <td>setosa</td>\n",
       "    </tr>\n",
       "  </tbody>\n",
       "</table>\n",
       "</div>"
      ],
      "text/plain": [
       "   SepalLength  SepalWidth  PetalLength  PetalWidth   Class\n",
       "0          5.1         3.5          1.4         0.2  setosa\n",
       "1          4.9         3.0          1.4         0.2  setosa\n",
       "2          4.7         3.2          1.3         0.2  setosa\n",
       "3          4.6         3.1          1.5         0.2  setosa\n",
       "4          5.0         3.6          1.4         0.2  setosa"
      ]
     },
     "execution_count": 4,
     "metadata": {},
     "output_type": "execute_result"
    }
   ],
   "source": [
    "from sklearn.datasets import load_iris\n",
    "iris = load_iris()\n",
    "df = pd.DataFrame(iris.data, columns = ['SepalLength', 'SepalWidth', 'PetalLength', 'PetalWidth'])\n",
    "df[\"Class\"] = pd.Series(iris.target)\n",
    "df[\"Class\"] = df[\"Class\"].apply(lambda x: iris.target_names[x])\n",
    "df.head()"
   ]
  },
  {
   "cell_type": "markdown",
   "metadata": {},
   "source": [
    "# 目次\n",
    "- ### データ整形Tips\n",
    " - 要素別の個数を調べる（要素の登場順は保持）"
   ]
  },
  {
   "cell_type": "markdown",
   "metadata": {},
   "source": [
    "\n",
    "# データ整形Tips\n",
    "=============================================================="
   ]
  },
  {
   "cell_type": "markdown",
   "metadata": {},
   "source": [
    "## 要素別の個数を調べる（要素の登場順は保持）"
   ]
  },
  {
   "cell_type": "code",
   "execution_count": 5,
   "metadata": {
    "collapsed": false,
    "scrolled": false
   },
   "outputs": [
    {
     "data": {
      "text/plain": [
       "Counter({'setosa': 50, 'versicolor': 50, 'virginica': 50})"
      ]
     },
     "execution_count": 5,
     "metadata": {},
     "output_type": "execute_result"
    }
   ],
   "source": [
    "from collections import Counter\n",
    "Counter(df.Class)"
   ]
  },
  {
   "cell_type": "markdown",
   "metadata": {},
   "source": [
    "### 列名に○を含む（含まない）列を選択する"
   ]
  },
  {
   "cell_type": "code",
   "execution_count": 11,
   "metadata": {
    "collapsed": false
   },
   "outputs": [
    {
     "name": "stdout",
     "output_type": "stream",
     "text": [
      "   SepalLength  SepalWidth\n",
      "0          5.1         3.5\n",
      "1          4.9         3.0\n",
      "2          4.7         3.2\n",
      "3          4.6         3.1\n",
      "4          5.0         3.6\n",
      "   PetalLength  PetalWidth   Class\n",
      "0          1.4         0.2  setosa\n",
      "1          1.4         0.2  setosa\n",
      "2          1.3         0.2  setosa\n",
      "3          1.5         0.2  setosa\n",
      "4          1.4         0.2  setosa\n"
     ]
    }
   ],
   "source": [
    "A = df.ix[:, df.columns.str.match(\"Sepal\")] # 含む\n",
    "B = df.ix[:, ~df.columns.str.match(\"Sepal\")] # 含まない\n",
    "print A.head()\n",
    "print B.head()"
   ]
  },
  {
   "cell_type": "markdown",
   "metadata": {},
   "source": [
    "## 日付のリストを週ごとにラベリングする"
   ]
  },
  {
   "cell_type": "code",
   "execution_count": 5,
   "metadata": {
    "collapsed": false
   },
   "outputs": [],
   "source": [
    "import calendar\n",
    "cl = calendar.Calendar()\n"
   ]
  },
  {
   "cell_type": "code",
   "execution_count": 48,
   "metadata": {
    "collapsed": false
   },
   "outputs": [
    {
     "name": "stdout",
     "output_type": "stream",
     "text": [
      "[datetime.date(2015, 12, 28), datetime.date(2015, 12, 29), datetime.date(2015, 12, 30), datetime.date(2015, 12, 31), datetime.date(2016, 1, 1), datetime.date(2016, 1, 2), datetime.date(2016, 1, 3)]\n",
      "<class 'list'>\n",
      "[datetime.date(2016, 1, 4), datetime.date(2016, 1, 5), datetime.date(2016, 1, 6), datetime.date(2016, 1, 7), datetime.date(2016, 1, 8), datetime.date(2016, 1, 9), datetime.date(2016, 1, 10)]\n",
      "<class 'list'>\n",
      "[datetime.date(2016, 1, 11), datetime.date(2016, 1, 12), datetime.date(2016, 1, 13), datetime.date(2016, 1, 14), datetime.date(2016, 1, 15), datetime.date(2016, 1, 16), datetime.date(2016, 1, 17)]\n",
      "<class 'list'>\n",
      "[datetime.date(2016, 1, 18), datetime.date(2016, 1, 19), datetime.date(2016, 1, 20), datetime.date(2016, 1, 21), datetime.date(2016, 1, 22), datetime.date(2016, 1, 23), datetime.date(2016, 1, 24)]\n",
      "<class 'list'>\n",
      "[datetime.date(2016, 1, 25), datetime.date(2016, 1, 26), datetime.date(2016, 1, 27), datetime.date(2016, 1, 28), datetime.date(2016, 1, 29), datetime.date(2016, 1, 30), datetime.date(2016, 1, 31)]\n",
      "<class 'list'>\n",
      "[datetime.date(2016, 2, 1), datetime.date(2016, 2, 2), datetime.date(2016, 2, 3), datetime.date(2016, 2, 4), datetime.date(2016, 2, 5), datetime.date(2016, 2, 6), datetime.date(2016, 2, 7)]\n",
      "<class 'list'>\n",
      "[datetime.date(2016, 2, 8), datetime.date(2016, 2, 9), datetime.date(2016, 2, 10), datetime.date(2016, 2, 11), datetime.date(2016, 2, 12), datetime.date(2016, 2, 13), datetime.date(2016, 2, 14)]\n",
      "<class 'list'>\n",
      "[datetime.date(2016, 2, 15), datetime.date(2016, 2, 16), datetime.date(2016, 2, 17), datetime.date(2016, 2, 18), datetime.date(2016, 2, 19), datetime.date(2016, 2, 20), datetime.date(2016, 2, 21)]\n",
      "<class 'list'>\n",
      "[datetime.date(2016, 2, 22), datetime.date(2016, 2, 23), datetime.date(2016, 2, 24), datetime.date(2016, 2, 25), datetime.date(2016, 2, 26), datetime.date(2016, 2, 27), datetime.date(2016, 2, 28)]\n",
      "<class 'list'>\n",
      "[datetime.date(2016, 2, 29), datetime.date(2016, 3, 1), datetime.date(2016, 3, 2), datetime.date(2016, 3, 3), datetime.date(2016, 3, 4), datetime.date(2016, 3, 5), datetime.date(2016, 3, 6)]\n",
      "<class 'list'>\n",
      "[datetime.date(2016, 2, 29), datetime.date(2016, 3, 1), datetime.date(2016, 3, 2), datetime.date(2016, 3, 3), datetime.date(2016, 3, 4), datetime.date(2016, 3, 5), datetime.date(2016, 3, 6)]\n",
      "<class 'list'>\n",
      "[datetime.date(2016, 3, 7), datetime.date(2016, 3, 8), datetime.date(2016, 3, 9), datetime.date(2016, 3, 10), datetime.date(2016, 3, 11), datetime.date(2016, 3, 12), datetime.date(2016, 3, 13)]\n",
      "<class 'list'>\n",
      "[datetime.date(2016, 3, 14), datetime.date(2016, 3, 15), datetime.date(2016, 3, 16), datetime.date(2016, 3, 17), datetime.date(2016, 3, 18), datetime.date(2016, 3, 19), datetime.date(2016, 3, 20)]\n",
      "<class 'list'>\n",
      "[datetime.date(2016, 3, 21), datetime.date(2016, 3, 22), datetime.date(2016, 3, 23), datetime.date(2016, 3, 24), datetime.date(2016, 3, 25), datetime.date(2016, 3, 26), datetime.date(2016, 3, 27)]\n",
      "<class 'list'>\n",
      "[datetime.date(2016, 3, 28), datetime.date(2016, 3, 29), datetime.date(2016, 3, 30), datetime.date(2016, 3, 31), datetime.date(2016, 4, 1), datetime.date(2016, 4, 2), datetime.date(2016, 4, 3)]\n",
      "<class 'list'>\n",
      "[datetime.date(2016, 3, 28), datetime.date(2016, 3, 29), datetime.date(2016, 3, 30), datetime.date(2016, 3, 31), datetime.date(2016, 4, 1), datetime.date(2016, 4, 2), datetime.date(2016, 4, 3)]\n",
      "<class 'list'>\n",
      "[datetime.date(2016, 4, 4), datetime.date(2016, 4, 5), datetime.date(2016, 4, 6), datetime.date(2016, 4, 7), datetime.date(2016, 4, 8), datetime.date(2016, 4, 9), datetime.date(2016, 4, 10)]\n",
      "<class 'list'>\n",
      "[datetime.date(2016, 4, 11), datetime.date(2016, 4, 12), datetime.date(2016, 4, 13), datetime.date(2016, 4, 14), datetime.date(2016, 4, 15), datetime.date(2016, 4, 16), datetime.date(2016, 4, 17)]\n",
      "<class 'list'>\n",
      "[datetime.date(2016, 4, 18), datetime.date(2016, 4, 19), datetime.date(2016, 4, 20), datetime.date(2016, 4, 21), datetime.date(2016, 4, 22), datetime.date(2016, 4, 23), datetime.date(2016, 4, 24)]\n",
      "<class 'list'>\n",
      "[datetime.date(2016, 4, 25), datetime.date(2016, 4, 26), datetime.date(2016, 4, 27), datetime.date(2016, 4, 28), datetime.date(2016, 4, 29), datetime.date(2016, 4, 30), datetime.date(2016, 5, 1)]\n",
      "<class 'list'>\n",
      "[datetime.date(2016, 4, 25), datetime.date(2016, 4, 26), datetime.date(2016, 4, 27), datetime.date(2016, 4, 28), datetime.date(2016, 4, 29), datetime.date(2016, 4, 30), datetime.date(2016, 5, 1)]\n",
      "<class 'list'>\n",
      "[datetime.date(2016, 5, 2), datetime.date(2016, 5, 3), datetime.date(2016, 5, 4), datetime.date(2016, 5, 5), datetime.date(2016, 5, 6), datetime.date(2016, 5, 7), datetime.date(2016, 5, 8)]\n",
      "<class 'list'>\n",
      "[datetime.date(2016, 5, 9), datetime.date(2016, 5, 10), datetime.date(2016, 5, 11), datetime.date(2016, 5, 12), datetime.date(2016, 5, 13), datetime.date(2016, 5, 14), datetime.date(2016, 5, 15)]\n",
      "<class 'list'>\n",
      "[datetime.date(2016, 5, 16), datetime.date(2016, 5, 17), datetime.date(2016, 5, 18), datetime.date(2016, 5, 19), datetime.date(2016, 5, 20), datetime.date(2016, 5, 21), datetime.date(2016, 5, 22)]\n",
      "<class 'list'>\n",
      "[datetime.date(2016, 5, 23), datetime.date(2016, 5, 24), datetime.date(2016, 5, 25), datetime.date(2016, 5, 26), datetime.date(2016, 5, 27), datetime.date(2016, 5, 28), datetime.date(2016, 5, 29)]\n",
      "<class 'list'>\n",
      "[datetime.date(2016, 5, 30), datetime.date(2016, 5, 31), datetime.date(2016, 6, 1), datetime.date(2016, 6, 2), datetime.date(2016, 6, 3), datetime.date(2016, 6, 4), datetime.date(2016, 6, 5)]\n",
      "<class 'list'>\n",
      "[datetime.date(2016, 6, 6), datetime.date(2016, 6, 7), datetime.date(2016, 6, 8), datetime.date(2016, 6, 9), datetime.date(2016, 6, 10), datetime.date(2016, 6, 11), datetime.date(2016, 6, 12)]\n",
      "<class 'list'>\n",
      "[datetime.date(2016, 6, 13), datetime.date(2016, 6, 14), datetime.date(2016, 6, 15), datetime.date(2016, 6, 16), datetime.date(2016, 6, 17), datetime.date(2016, 6, 18), datetime.date(2016, 6, 19)]\n",
      "<class 'list'>\n",
      "[datetime.date(2016, 6, 20), datetime.date(2016, 6, 21), datetime.date(2016, 6, 22), datetime.date(2016, 6, 23), datetime.date(2016, 6, 24), datetime.date(2016, 6, 25), datetime.date(2016, 6, 26)]\n",
      "<class 'list'>\n",
      "[datetime.date(2016, 6, 27), datetime.date(2016, 6, 28), datetime.date(2016, 6, 29), datetime.date(2016, 6, 30), datetime.date(2016, 7, 1), datetime.date(2016, 7, 2), datetime.date(2016, 7, 3)]\n",
      "<class 'list'>\n",
      "[datetime.date(2016, 6, 27), datetime.date(2016, 6, 28), datetime.date(2016, 6, 29), datetime.date(2016, 6, 30), datetime.date(2016, 7, 1), datetime.date(2016, 7, 2), datetime.date(2016, 7, 3)]\n",
      "<class 'list'>\n",
      "[datetime.date(2016, 7, 4), datetime.date(2016, 7, 5), datetime.date(2016, 7, 6), datetime.date(2016, 7, 7), datetime.date(2016, 7, 8), datetime.date(2016, 7, 9), datetime.date(2016, 7, 10)]\n",
      "<class 'list'>\n",
      "[datetime.date(2016, 7, 11), datetime.date(2016, 7, 12), datetime.date(2016, 7, 13), datetime.date(2016, 7, 14), datetime.date(2016, 7, 15), datetime.date(2016, 7, 16), datetime.date(2016, 7, 17)]\n",
      "<class 'list'>\n",
      "[datetime.date(2016, 7, 18), datetime.date(2016, 7, 19), datetime.date(2016, 7, 20), datetime.date(2016, 7, 21), datetime.date(2016, 7, 22), datetime.date(2016, 7, 23), datetime.date(2016, 7, 24)]\n",
      "<class 'list'>\n",
      "[datetime.date(2016, 7, 25), datetime.date(2016, 7, 26), datetime.date(2016, 7, 27), datetime.date(2016, 7, 28), datetime.date(2016, 7, 29), datetime.date(2016, 7, 30), datetime.date(2016, 7, 31)]\n",
      "<class 'list'>\n",
      "[datetime.date(2016, 8, 1), datetime.date(2016, 8, 2), datetime.date(2016, 8, 3), datetime.date(2016, 8, 4), datetime.date(2016, 8, 5), datetime.date(2016, 8, 6), datetime.date(2016, 8, 7)]\n",
      "<class 'list'>\n",
      "[datetime.date(2016, 8, 8), datetime.date(2016, 8, 9), datetime.date(2016, 8, 10), datetime.date(2016, 8, 11), datetime.date(2016, 8, 12), datetime.date(2016, 8, 13), datetime.date(2016, 8, 14)]\n",
      "<class 'list'>\n",
      "[datetime.date(2016, 8, 15), datetime.date(2016, 8, 16), datetime.date(2016, 8, 17), datetime.date(2016, 8, 18), datetime.date(2016, 8, 19), datetime.date(2016, 8, 20), datetime.date(2016, 8, 21)]\n",
      "<class 'list'>\n",
      "[datetime.date(2016, 8, 22), datetime.date(2016, 8, 23), datetime.date(2016, 8, 24), datetime.date(2016, 8, 25), datetime.date(2016, 8, 26), datetime.date(2016, 8, 27), datetime.date(2016, 8, 28)]\n",
      "<class 'list'>\n",
      "[datetime.date(2016, 8, 29), datetime.date(2016, 8, 30), datetime.date(2016, 8, 31), datetime.date(2016, 9, 1), datetime.date(2016, 9, 2), datetime.date(2016, 9, 3), datetime.date(2016, 9, 4)]\n",
      "<class 'list'>\n",
      "[datetime.date(2016, 8, 29), datetime.date(2016, 8, 30), datetime.date(2016, 8, 31), datetime.date(2016, 9, 1), datetime.date(2016, 9, 2), datetime.date(2016, 9, 3), datetime.date(2016, 9, 4)]\n",
      "<class 'list'>\n",
      "[datetime.date(2016, 9, 5), datetime.date(2016, 9, 6), datetime.date(2016, 9, 7), datetime.date(2016, 9, 8), datetime.date(2016, 9, 9), datetime.date(2016, 9, 10), datetime.date(2016, 9, 11)]\n",
      "<class 'list'>\n",
      "[datetime.date(2016, 9, 12), datetime.date(2016, 9, 13), datetime.date(2016, 9, 14), datetime.date(2016, 9, 15), datetime.date(2016, 9, 16), datetime.date(2016, 9, 17), datetime.date(2016, 9, 18)]\n",
      "<class 'list'>\n",
      "[datetime.date(2016, 9, 19), datetime.date(2016, 9, 20), datetime.date(2016, 9, 21), datetime.date(2016, 9, 22), datetime.date(2016, 9, 23), datetime.date(2016, 9, 24), datetime.date(2016, 9, 25)]\n",
      "<class 'list'>\n",
      "[datetime.date(2016, 9, 26), datetime.date(2016, 9, 27), datetime.date(2016, 9, 28), datetime.date(2016, 9, 29), datetime.date(2016, 9, 30), datetime.date(2016, 10, 1), datetime.date(2016, 10, 2)]\n",
      "<class 'list'>\n",
      "[datetime.date(2016, 9, 26), datetime.date(2016, 9, 27), datetime.date(2016, 9, 28), datetime.date(2016, 9, 29), datetime.date(2016, 9, 30), datetime.date(2016, 10, 1), datetime.date(2016, 10, 2)]\n",
      "<class 'list'>\n",
      "[datetime.date(2016, 10, 3), datetime.date(2016, 10, 4), datetime.date(2016, 10, 5), datetime.date(2016, 10, 6), datetime.date(2016, 10, 7), datetime.date(2016, 10, 8), datetime.date(2016, 10, 9)]\n",
      "<class 'list'>\n",
      "[datetime.date(2016, 10, 10), datetime.date(2016, 10, 11), datetime.date(2016, 10, 12), datetime.date(2016, 10, 13), datetime.date(2016, 10, 14), datetime.date(2016, 10, 15), datetime.date(2016, 10, 16)]\n",
      "<class 'list'>\n",
      "[datetime.date(2016, 10, 17), datetime.date(2016, 10, 18), datetime.date(2016, 10, 19), datetime.date(2016, 10, 20), datetime.date(2016, 10, 21), datetime.date(2016, 10, 22), datetime.date(2016, 10, 23)]\n",
      "<class 'list'>\n",
      "[datetime.date(2016, 10, 24), datetime.date(2016, 10, 25), datetime.date(2016, 10, 26), datetime.date(2016, 10, 27), datetime.date(2016, 10, 28), datetime.date(2016, 10, 29), datetime.date(2016, 10, 30)]\n",
      "<class 'list'>\n",
      "[datetime.date(2016, 10, 31), datetime.date(2016, 11, 1), datetime.date(2016, 11, 2), datetime.date(2016, 11, 3), datetime.date(2016, 11, 4), datetime.date(2016, 11, 5), datetime.date(2016, 11, 6)]\n",
      "<class 'list'>\n",
      "[datetime.date(2016, 11, 7), datetime.date(2016, 11, 8), datetime.date(2016, 11, 9), datetime.date(2016, 11, 10), datetime.date(2016, 11, 11), datetime.date(2016, 11, 12), datetime.date(2016, 11, 13)]\n",
      "<class 'list'>\n",
      "[datetime.date(2016, 11, 14), datetime.date(2016, 11, 15), datetime.date(2016, 11, 16), datetime.date(2016, 11, 17), datetime.date(2016, 11, 18), datetime.date(2016, 11, 19), datetime.date(2016, 11, 20)]\n",
      "<class 'list'>\n",
      "[datetime.date(2016, 11, 21), datetime.date(2016, 11, 22), datetime.date(2016, 11, 23), datetime.date(2016, 11, 24), datetime.date(2016, 11, 25), datetime.date(2016, 11, 26), datetime.date(2016, 11, 27)]\n",
      "<class 'list'>\n",
      "[datetime.date(2016, 11, 28), datetime.date(2016, 11, 29), datetime.date(2016, 11, 30), datetime.date(2016, 12, 1), datetime.date(2016, 12, 2), datetime.date(2016, 12, 3), datetime.date(2016, 12, 4)]\n",
      "<class 'list'>\n",
      "[datetime.date(2016, 11, 28), datetime.date(2016, 11, 29), datetime.date(2016, 11, 30), datetime.date(2016, 12, 1), datetime.date(2016, 12, 2), datetime.date(2016, 12, 3), datetime.date(2016, 12, 4)]\n",
      "<class 'list'>\n",
      "[datetime.date(2016, 12, 5), datetime.date(2016, 12, 6), datetime.date(2016, 12, 7), datetime.date(2016, 12, 8), datetime.date(2016, 12, 9), datetime.date(2016, 12, 10), datetime.date(2016, 12, 11)]\n",
      "<class 'list'>\n",
      "[datetime.date(2016, 12, 12), datetime.date(2016, 12, 13), datetime.date(2016, 12, 14), datetime.date(2016, 12, 15), datetime.date(2016, 12, 16), datetime.date(2016, 12, 17), datetime.date(2016, 12, 18)]\n",
      "<class 'list'>\n",
      "[datetime.date(2016, 12, 19), datetime.date(2016, 12, 20), datetime.date(2016, 12, 21), datetime.date(2016, 12, 22), datetime.date(2016, 12, 23), datetime.date(2016, 12, 24), datetime.date(2016, 12, 25)]\n",
      "<class 'list'>\n",
      "[datetime.date(2016, 12, 26), datetime.date(2016, 12, 27), datetime.date(2016, 12, 28), datetime.date(2016, 12, 29), datetime.date(2016, 12, 30), datetime.date(2016, 12, 31), datetime.date(2017, 1, 1)]\n",
      "<class 'list'>\n",
      "[]\n"
     ]
    }
   ],
   "source": [
    "eles = cl.yeardatescalendar(2016)\n",
    "weeks = []\n",
    "for i in range(4):\n",
    "    for j in range(3):\n",
    "        for k in range(5):\n",
    "            print(eles[i][j][k])\n",
    "            print(type(eles[i][j][k]))\n",
    "            if i+j+k==9:\n",
    "                break\n",
    "            #weeks = weeks.extend(eles[i][j][k])\n",
    "print(weeks)"
   ]
  },
  {
   "cell_type": "code",
   "execution_count": 35,
   "metadata": {
    "collapsed": false,
    "scrolled": false
   },
   "outputs": [
    {
     "name": "stdout",
     "output_type": "stream",
     "text": [
      "[datetime.date(2015, 12, 28), datetime.date(2015, 12, 29), datetime.date(2015, 12, 30), datetime.date(2015, 12, 31), datetime.date(2016, 1, 1), datetime.date(2016, 1, 2), datetime.date(2016, 1, 3)]\n"
     ]
    }
   ],
   "source": [
    "print(eles[0][0][0])"
   ]
  },
  {
   "cell_type": "markdown",
   "metadata": {},
   "source": [
    "ele[0]~[3]　１月～３月、４月～６月、７月～９月、１０月～１２月\n",
    "ele[0][0]~[0][3]　１月、２月、３月\n",
    "ele[0][0][0]~[0][0][6] ,月曜、火曜、水曜、……、日曜"
   ]
  }
 ],
 "metadata": {
  "kernelspec": {
   "display_name": "Python 2",
   "language": "python",
   "name": "python2"
  },
  "language_info": {
   "codemirror_mode": {
    "name": "ipython",
    "version": 2
   },
   "file_extension": ".py",
   "mimetype": "text/x-python",
   "name": "python",
   "nbconvert_exporter": "python",
   "pygments_lexer": "ipython2",
   "version": "2.7.12"
  }
 },
 "nbformat": 4,
 "nbformat_minor": 0
}
